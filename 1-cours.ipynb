{
 "cells": [
  {
   "cell_type": "markdown",
   "metadata": {},
   "source": [
    "# Séance 1 – 30/09/2020 : révisions"
   ]
  },
  {
   "cell_type": "markdown",
   "metadata": {},
   "source": [
    "## Rappel\n",
    "\n",
    "* Nous travaillerons avec Python3 (`3.6` ou supérieur de préférence)\n",
    "* Pour le travail avec la console vous utiliserez `ipython` ou `python3` (ou `python` si vous avez une installation récente)  \n",
    "* Vos scripts devront être encodés en utf-8, indiquez-le dans vos scripts avec le commentaire suivant en première ligne :  \n",
    "`# -*- coding: utf-8 -*-` ou `# coding=utf-8`\n",
    "* pensez à aller sur la doc en ligne : https://docs.python.org/3/"
   ]
  },
  {
   "cell_type": "markdown",
   "metadata": {},
   "source": [
    "## Rappel (2)\n",
    "\n",
    "Pour exécuter vos scripts, deux options :  \n",
    "\n",
    "`> python3 mon_script.py`\n",
    "\n",
    "ou <small>(mais pourquoi faire compliqué ?)</small>\n",
    "\n",
    "`> chmod u+x`  \n",
    "`> ./mon_script.py` en ajoutant ce shebang en première ligne :  \n",
    "`#!/usr/bin/env python3`\n"
   ]
  },
  {
   "cell_type": "markdown",
   "metadata": {},
   "source": [
    "## Les opérateurs mathématiques\n",
    "\n",
    "`+` addition (`+` est aussi l'opérateur de concaténation de chaînes de caractères)  \n",
    "`-` soustraction  \n",
    "`*` multiplication  \n",
    "`/` division  \n",
    "`//` la division entière  \n",
    "`%` modulo (reste de la division)  \n",
    "`**` puissance  \n",
    "\n",
    "* L'ordre des opérations est l'ordre classique en mathématiques (puissance passe avant les opérations).\n",
    "* vous pouvez utiliser des parenthèses pour définir des priorités."
   ]
  },
  {
   "cell_type": "markdown",
   "metadata": {},
   "source": [
    "### ✍️  Exos ✍️\n",
    "\n",
    "C'est à vous de jouer. Vous avez une fonction à compléter (ça vous apprendra à écrire des fonctions, na).  \n",
    "À chaque fois j'essaierai d'ajouter une cellule avec des tests qui vous permettront de valider votre code. Écrivez votre code dans la cellule de la fonction, éxecutez cette cellule (bouton 'Run' ou ctrl + Enter) puis éxecutez la cellule de test.\n",
    "\n",
    "L'objectif est que vous soyez autonome pour valider ces exos (et accessoirement de vous familiariser avec les tests)."
   ]
  },
  {
   "cell_type": "code",
   "execution_count": 1,
   "metadata": {},
   "outputs": [],
   "source": [
    "def is_even(num):\n",
    "    \"\"\"\n",
    "    returns True is num is even, False if odd\n",
    "    \"\"\"\n",
    "    # votre code ici"
   ]
  },
  {
   "cell_type": "code",
   "execution_count": 2,
   "metadata": {},
   "outputs": [],
   "source": [
    "assert is_even(1) == False\n",
    "assert is_even(2) == True\n",
    "assert is_even(-3) == False\n",
    "assert is_even(-42) == True\n",
    "assert is_even(0) == True"
   ]
  },
  {
   "cell_type": "code",
   "execution_count": 4,
   "metadata": {},
   "outputs": [],
   "source": [
    "def square(num):\n",
    "    \"\"\"\n",
    "    Renvoie le nombre donné en argument au carré\n",
    "    \"\"\"\n",
    "    # votre code ici"
   ]
  },
  {
   "cell_type": "code",
   "execution_count": 5,
   "metadata": {},
   "outputs": [],
   "source": [
    "assert square(3) == 9\n",
    "assert square(0) == 0\n",
    "assert square(-2) == 4"
   ]
  },
  {
   "cell_type": "markdown",
   "metadata": {},
   "source": [
    "## Opérateurs de comparaison\n",
    "`<`  inférieur  / `<=` inférieur ou égal  \n",
    "`>`  supérieur  / `>=` supérieur ou égal  \n",
    "`==` égal  / `!=` non égal  \n",
    "`is` identité (pour les objets surtout)  / `is not` non identité  "
   ]
  },
  {
   "cell_type": "markdown",
   "metadata": {},
   "source": [
    "### ✍️  Exo ✍️"
   ]
  },
  {
   "cell_type": "code",
   "execution_count": 6,
   "metadata": {},
   "outputs": [],
   "source": [
    "def on_fait_la_taille(moi, toi):\n",
    "    \"\"\"\n",
    "    me dit si je suis \"plus grand\" que toi, \"plus petit\" ou \"pareil\"\n",
    "    \"\"\"\n",
    "    # votre code ici"
   ]
  },
  {
   "cell_type": "code",
   "execution_count": 7,
   "metadata": {},
   "outputs": [],
   "source": [
    "assert on_fait_la_taille(100, 80) == \"plus grand\"\n",
    "assert on_fait_la_taille(100, 120) == \"plus petit\"\n",
    "assert on_fait_la_taille(100, 100) == \"pareil\""
   ]
  },
  {
   "cell_type": "markdown",
   "metadata": {},
   "source": [
    "## Les variables\n",
    "\n",
    "* L'affectation des variables se fait à l'aide du symbole `=`  \n",
    "* Si la variable est placée à droite du symbole `=`, sa *valeur* est affectée à la variable placée à gauche.\n",
    "* Les noms de variable sont composés de car. alphabétiques (min ou maj), des chiffres et de l'underscore. C'est tout.\n",
    "* Les noms de variable sont choisis par le programmeur, ils doivent être le plus clair possible. Il est conseillé de suivre la [PEP 8](https://www.python.org/dev/peps/pep-0008/)."
   ]
  },
  {
   "cell_type": "code",
   "execution_count": null,
   "metadata": {},
   "outputs": [],
   "source": [
    "var = 3 + 2\n",
    "print(var)\n",
    "\n",
    "another_var = var\n",
    "print(another_var)"
   ]
  },
  {
   "cell_type": "code",
   "execution_count": null,
   "metadata": {},
   "outputs": [],
   "source": [
    "je-ne-suis-pas-une-variable = 2 "
   ]
  },
  {
   "cell_type": "code",
   "execution_count": null,
   "metadata": {},
   "outputs": [],
   "source": [
    "3_moi_non_plus = 2 + 3"
   ]
  },
  {
   "cell_type": "markdown",
   "metadata": {},
   "source": [
    "* Seuls les mots réservés sont interdits."
   ]
  },
  {
   "cell_type": "code",
   "execution_count": null,
   "metadata": {},
   "outputs": [],
   "source": [
    "import keyword\n",
    "print(keyword.kwlist)"
   ]
  },
  {
   "cell_type": "markdown",
   "metadata": {},
   "source": [
    "# Les types\n",
    "\n",
    "* Python est un langage à typage *dynamique* fort : le type d'une variable est déterminé par l'interpréteur.\n",
    "* Python est un langage à typage dynamique *fort* : pas de conversion implicite, certaines actions sont interdites."
   ]
  },
  {
   "cell_type": "code",
   "execution_count": null,
   "metadata": {},
   "outputs": [],
   "source": [
    "\"Hello\" + 1"
   ]
  },
  {
   "cell_type": "markdown",
   "metadata": {},
   "source": [
    "* La fonction `type()` retourne le type de la variable donnée en argument."
   ]
  },
  {
   "cell_type": "code",
   "execution_count": null,
   "metadata": {},
   "outputs": [],
   "source": [
    "type(\"Hello\")"
   ]
  },
  {
   "cell_type": "markdown",
   "metadata": {},
   "source": [
    "* La fonction `isinstance(obj, class)` vous dit si l'objet donné en argument est de la classe 'class' ou non"
   ]
  },
  {
   "cell_type": "code",
   "execution_count": null,
   "metadata": {},
   "outputs": [],
   "source": [
    "isinstance('hello', int)"
   ]
  },
  {
   "cell_type": "markdown",
   "metadata": {},
   "source": [
    "### ✍️  Exo ✍️\n",
    "\n",
    "Vous reprenez votre fonction `is_even` de façon à afficher \"Erreur de type\" quand l'argument n'est pas de type `int`"
   ]
  },
  {
   "cell_type": "code",
   "execution_count": null,
   "metadata": {},
   "outputs": [],
   "source": [
    "def is_even(num):\n",
    "    \"\"\"\n",
    "    returns True is num is even, False if odd\n",
    "    \"\"\"\n",
    "    # votre code ici"
   ]
  },
  {
   "cell_type": "code",
   "execution_count": null,
   "metadata": {},
   "outputs": [],
   "source": [
    "assert is_even(1) == False\n",
    "assert is_even(2) == True\n",
    "assert is_even(-3) == False\n",
    "assert is_even(-42) == True\n",
    "assert is_even(0) == True\n",
    "assert is_even(\"test\") == \"Erreur de type\""
   ]
  },
  {
   "cell_type": "markdown",
   "metadata": {},
   "source": [
    "## Les chaînes de caractère"
   ]
  },
  {
   "cell_type": "markdown",
   "metadata": {},
   "source": [
    "* Les chaînes de caractères sont entourées soit de quotes simples `'`, soit de guillemets `\"`\n",
    "* Si votre mot contient une apostrophe, entourez-le de guillemets `\"`"
   ]
  },
  {
   "cell_type": "code",
   "execution_count": null,
   "metadata": {},
   "outputs": [],
   "source": [
    "'Ça donne une erreur t'as vu'"
   ]
  },
  {
   "cell_type": "code",
   "execution_count": null,
   "metadata": {},
   "outputs": [],
   "source": [
    "\"Ça donne une erreur t'as vu\""
   ]
  },
  {
   "cell_type": "markdown",
   "metadata": {},
   "source": [
    "Les chaînes sont des *sequences*, on peut leur appliquer les opérations suivantes propres à la catégorie d'objets *sequence* :  \n",
    "(vous connaissez d'autres *sequence* au fait ?)\n",
    "\n",
    "* longueur, minimum, maximum"
   ]
  },
  {
   "cell_type": "code",
   "execution_count": null,
   "metadata": {},
   "outputs": [],
   "source": [
    "var = \"bonjour\"\n",
    "\n",
    "# longueur, minimum, maximum\n",
    "print(len(var))\n",
    "print(max(var))"
   ]
  },
  {
   "cell_type": "markdown",
   "metadata": {},
   "source": [
    "* _indexing_"
   ]
  },
  {
   "cell_type": "code",
   "execution_count": null,
   "metadata": {},
   "outputs": [],
   "source": [
    "# indexing\n",
    "var = \"bonjour\"\n",
    "print(var[2])\n",
    "print(var[-1])"
   ]
  },
  {
   "cell_type": "markdown",
   "metadata": {},
   "source": [
    "* _slicing_"
   ]
  },
  {
   "cell_type": "code",
   "execution_count": null,
   "metadata": {},
   "outputs": [],
   "source": [
    "# slicing\n",
    "print(var[0:3]) # 3 premiers éléments\n",
    "print(var[-3:]) # 3 derniers éléments"
   ]
  },
  {
   "cell_type": "markdown",
   "metadata": {},
   "source": [
    "* _membership_"
   ]
  },
  {
   "cell_type": "code",
   "execution_count": null,
   "metadata": {},
   "outputs": [],
   "source": [
    "if 'u' in var:\n",
    "    print(\"Il y a un u dans {}\".format(var))"
   ]
  },
  {
   "cell_type": "markdown",
   "metadata": {},
   "source": [
    "Les chaînes ont aussi des fonctions qui leur sont propres\n",
    "\n",
    "Voir la liste complète dans la doc python\n",
    "\n",
    "`lower()` transforme la chaine en minuscules  \n",
    "`upper()` transforme la chaine en majuscules  \n",
    "`replace(old, new)` remplace les occurrences de `old` par `new`  \n",
    "`strip(chars=None)` appelé sans arguments supprime le ou les espaces en tête et en fin de chaîne  \n",
    "`rstrip(chars=None)` fait la même chose en fin de chaîne uniquement  \n",
    "`lstrip(chars=None)` idem en début de chaîne  \n",
    "`split(sep=None)` découpe une chaîne en fonction de `sep` et renvoie une liste. Si `sep` n'est pas donné, coupe sur tous les caractères d'espace  \n",
    "`join(iterable)` est l'inverse de `split`, il permet de joindre les éléments d'un *iterable* pour former une seule chaîne de caractères  \n",
    "[`format()`](https://docs.python.org/3.5/library/string.html#formatstrings) depuis python3 (et python2.7) pour effectuer l'[interpolation de chaîne](https://en.wikipedia.org/wiki/String_interpolation)  "
   ]
  },
  {
   "cell_type": "code",
   "execution_count": null,
   "metadata": {},
   "outputs": [],
   "source": [
    "words = \"bonjour ça va ?\".split(' ')\n",
    "\"-\".join(words)"
   ]
  },
  {
   "cell_type": "markdown",
   "metadata": {},
   "source": [
    "### Formatage de chaînes\n",
    "\n",
    "« There should be one-- and preferably only one --obvious way to do it. » _Zen of Python_  \n",
    "Sauf que : \n",
    "* concaténation avec `+`\n",
    "* interpolation avec `format()`\n",
    "* [f-string](https://docs.python.org/3.6/reference/lexical_analysis.html#f-strings) depuis python3.6"
   ]
  },
  {
   "cell_type": "code",
   "execution_count": null,
   "metadata": {},
   "outputs": [],
   "source": [
    "name = \"Clément\"\n",
    "coffee_price = 0.6\n",
    "\n",
    "print(\"Tiens salut \" + name + \". T'aurais pas \" + str(coffee_price*2) + \" euros pour 2 cafés ?\")\n",
    "\n",
    "print(\"Tiens salut {}. T'aurais pas {} euros pour 2 cafés ?\".format(name, coffee_price*2))\n",
    "\n",
    "print(f\"Tiens salut {name}. T'aurais pas {coffee_price*2} euros pour 2 cafés ?\")"
   ]
  },
  {
   "cell_type": "markdown",
   "metadata": {},
   "source": [
    "### ✍️  Exo ✍️"
   ]
  },
  {
   "cell_type": "code",
   "execution_count": null,
   "metadata": {},
   "outputs": [],
   "source": [
    "def say_hello(firstname, lastname):\n",
    "    # avec des f-string svp\n",
    "    # votre code ici"
   ]
  },
  {
   "cell_type": "code",
   "execution_count": null,
   "metadata": {},
   "outputs": [],
   "source": [
    "assert say_hello(\"Lucky\", \"Luke\") == \"Hello Lucky Luke !\""
   ]
  },
  {
   "cell_type": "markdown",
   "metadata": {},
   "source": [
    "Un objet de type `str` (string, chaîne de car. quoi) est *immutable*, on ne peut pas modifier sa valeur."
   ]
  },
  {
   "cell_type": "code",
   "execution_count": null,
   "metadata": {},
   "outputs": [],
   "source": [
    "chaine = \"pithon\"\n",
    "chaine[1] = 'y'"
   ]
  },
  {
   "cell_type": "markdown",
   "metadata": {},
   "source": [
    "## Les structures de données"
   ]
  },
  {
   "cell_type": "markdown",
   "metadata": {},
   "source": [
    "## Les listes"
   ]
  },
  {
   "cell_type": "markdown",
   "metadata": {},
   "source": [
    "- Les listes sont des *sequences* (`str`, `tuple`, `list`)\n",
    "- Les *sequences* sont des structures de données indicées qui peuvent contenir des éléments de différents types\n",
    "- Les *sequences* sont des *iterables*, les listes aussi donc\n",
    "- Les éléments d'une liste peuvent être modifiés (*mutable*)\n",
    "- On accède à un élément par son indice (de 0 à n-1, n étant le nombre d'éléments)\n",
    "\n",
    "- Une liste vide peut se déclarer de deux façons"
   ]
  },
  {
   "cell_type": "code",
   "execution_count": null,
   "metadata": {},
   "outputs": [],
   "source": [
    "stack = []\n",
    "stack = list()"
   ]
  },
  {
   "cell_type": "code",
   "execution_count": null,
   "metadata": {},
   "outputs": [],
   "source": [
    "stack = list(\"Pithon\")\n",
    "stack[1] = 'y'\n",
    "stack"
   ]
  },
  {
   "cell_type": "markdown",
   "metadata": {},
   "source": [
    "### ✍️  Exo ✍️"
   ]
  },
  {
   "cell_type": "code",
   "execution_count": null,
   "metadata": {},
   "outputs": [],
   "source": [
    "def change_char(string, index):\n",
    "    \"\"\"\n",
    "    In the given string, change the char at given index for 'z'\n",
    "    returns the modified str\n",
    "    ex: change(\"maison\", 2) -> mazson\n",
    "    \"\"\"\n",
    "    # votre code ici"
   ]
  },
  {
   "cell_type": "code",
   "execution_count": null,
   "metadata": {},
   "outputs": [],
   "source": [
    "assert isinstance(change_char(\"maison\", 3), str)\n",
    "assert change_char(\"maison\", 3) == \"maizon\"\n",
    "assert change_char(\"maison\", 0) == \"zaison\""
   ]
  },
  {
   "cell_type": "markdown",
   "metadata": {},
   "source": [
    "## Les dictionnaires\n",
    "\t\t\t\n",
    "* Un dictionnaire est une structure de données associative de type 'clé' → 'valeur'\n",
    "* Les données ne sont pas ordonnées comme dans les listes\n",
    "* On accède à une valeur par sa clé\n",
    "* Les clés sont uniques : on ne peut pas associer deux valeurs à une même clé    \n",
    "* `keys()` renvoie la liste des clés, `values()` la liste des valeurs"
   ]
  },
  {
   "cell_type": "code",
   "execution_count": null,
   "metadata": {},
   "outputs": [],
   "source": [
    "couleurs = {'a':'noir', 'e':'blanc', 'i':'rouge', 'u':'vert', 'o':'bleu'}\n",
    "couleurs['i'] = \"pourpre\"\n",
    "couleurs"
   ]
  },
  {
   "cell_type": "code",
   "execution_count": null,
   "metadata": {},
   "outputs": [],
   "source": [
    "couleurs.keys()"
   ]
  },
  {
   "cell_type": "code",
   "execution_count": null,
   "metadata": {},
   "outputs": [],
   "source": [
    "couleurs.values()"
   ]
  },
  {
   "cell_type": "code",
   "execution_count": null,
   "metadata": {},
   "outputs": [],
   "source": [
    "couleurs.items()"
   ]
  },
  {
   "cell_type": "markdown",
   "metadata": {},
   "source": [
    "# Les tuples\n",
    "\n",
    "- Les tuples (`tuple`) sont des *sequences* similaires aux listes sauf qu'elles ne peuvent pas être modifiées (*immutable*)\n",
    "- Les tuples sont souvent utilisées comme valeur de retour d'une fonction\n",
    "- Les tuples peuvent être utilisées comme clé de dictionnaire"
   ]
  },
  {
   "cell_type": "code",
   "execution_count": null,
   "metadata": {},
   "outputs": [],
   "source": [
    "voyelles = ('a', 'e', 'i', 'o', 'u', 'y')\n",
    "my_var = tuple('Perl')\n",
    "my_var"
   ]
  },
  {
   "cell_type": "markdown",
   "metadata": {},
   "source": [
    "## Les structures conditionnelles\n",
    "\n",
    "```python\n",
    "if condition:\n",
    "    [...]\n",
    "elif condition:  # si besoin\n",
    "    [...]\n",
    "else:  # si besoin\n",
    "    [...]\n",
    "```\n",
    "\n",
    "### Opérateurs booléens\n",
    "``not`` négation  \n",
    "``and`` conjonction (True si les deux opérandes sont vraies, False sinon)  \n",
    "``or``  disjonction (True si une des deux opérandes est vraie)"
   ]
  },
  {
   "cell_type": "markdown",
   "metadata": {},
   "source": [
    "* Les valeurs ci-dessous sont toutes évaluées par l'interpréteur comme ayant la valeur booléenne *false*\n",
    "\n",
    "  `False` `None` `0` `\"\"` `()` `[]` `{}`\n",
    "\n",
    "* Tout le reste<sup>1</sup> sera évalué comme _true_\n",
    "\n",
    "  Vous pouvez écrire :\n",
    "```python\n",
    ">>> if var: ou while my_list:  \n",
    "```\n",
    "  plutôt que :  \n",
    "\n",
    "```python\n",
    ">>> if var != \"\": ou while my_list != []:\n",
    "```\n",
    "\n",
    "<sup>1</sup> <small>Sauf les objets dont vous avez construit les classes. Voir les diapos à venir sur Classes et objets.</small>"
   ]
  },
  {
   "cell_type": "code",
   "execution_count": null,
   "metadata": {},
   "outputs": [],
   "source": [
    "x = 4\n",
    "if x > 3 and x <= 5:\n",
    "    print(\"x a grandi, un peu\")\n",
    "elif x > 5:\n",
    "    print(\"x a grandi\")\n",
    "else:\n",
    "    print(\"x n'a pas grandi\")"
   ]
  },
  {
   "cell_type": "markdown",
   "metadata": {},
   "source": [
    "## Les boucles\n",
    "\n",
    "* Les boucles `while` nécessitent que la valeur utilisée dans la condition d'arrêt soit modifiée dans le corps de la boucle."
   ]
  },
  {
   "cell_type": "code",
   "execution_count": null,
   "metadata": {},
   "outputs": [],
   "source": [
    "i = 1\n",
    "while i < 5:\n",
    "    print(i)\n",
    "    i = i + 1"
   ]
  },
  {
   "cell_type": "markdown",
   "metadata": {},
   "source": [
    "* Les boucles `for` s'appliquent sur les *séquences* (`list`, `str`, `tuple`) et plus généralement sur les *iterables* [voir doc](https://docs.python.org/3/glossary.html#term-iterable)\n",
    "* Les *iterables* sont des objets issus de classes qui implémentent la méthode `__iter__()` et/ou `__getitem__()`\n",
    "* L'instruction `continue` permet de passer à l'itération suivante\n",
    "* L'instruction `break` permet de quitter la boucle en cours"
   ]
  },
  {
   "cell_type": "code",
   "execution_count": null,
   "metadata": {},
   "outputs": [],
   "source": [
    "for item in voyelles:\n",
    "    print(item)"
   ]
  },
  {
   "cell_type": "code",
   "execution_count": null,
   "metadata": {},
   "outputs": [],
   "source": [
    "for item in couleurs.keys():\n",
    "    if item == 'i':\n",
    "        continue\n",
    "    print(item)"
   ]
  },
  {
   "cell_type": "code",
   "execution_count": null,
   "metadata": {},
   "outputs": [],
   "source": [
    "for key, value in couleurs.items():\n",
    "    print(key, value)\n",
    "    if key == 'i':\n",
    "        break"
   ]
  },
  {
   "cell_type": "markdown",
   "metadata": {},
   "source": [
    "* `zip` permet de boucler sur plusieurs séquences\n",
    "* Si les séquences sont de tailles différentes `zip` s'arrête à la longueur la plus petite"
   ]
  },
  {
   "cell_type": "code",
   "execution_count": null,
   "metadata": {},
   "outputs": [],
   "source": [
    "noms = ['einstein', 'planck', 'turing', 'curie', 'bohr', 'shannon']\n",
    "facs = ['inalco', 'p3', 'p10', 'inalco', 'p3', 'inalco']\n",
    "parcours = ['pro', 'r&d', 'r&d', 'pro', 'pro', 'r&d']\n",
    "for nom, fac, parcours in zip(noms, facs, parcours):\n",
    "    print(f\"{nom} est inscrit en {parcours} à {fac}\")"
   ]
  },
  {
   "cell_type": "markdown",
   "metadata": {},
   "source": [
    "### ☕  Exos ☕"
   ]
  },
  {
   "cell_type": "code",
   "execution_count": 8,
   "metadata": {},
   "outputs": [],
   "source": [
    "def fr_ar(string):\n",
    "    \"\"\"\n",
    "    recherche les pronoms personnels dans la chaîne donnée en argument\n",
    "    renvoie leurs équivalents en arabe sous forme de liste\n",
    "    \"\"\"\n",
    "    res = []\n",
    "    # from https://fr.wikipedia.org/wiki/Liste_Swadesh_de_l%27arabe\n",
    "    fr_ar_dict = {'je':'أنا', 'tu':'أنت', 'il': 'هو', 'nous': 'نحن', 'vous': 'انتما', 'ils': 'هما'}\n",
    "    # votre code ici"
   ]
  },
  {
   "cell_type": "code",
   "execution_count": 9,
   "metadata": {},
   "outputs": [],
   "source": [
    "assert fr_ar(\"trop bizarre cet exercice\") == []\n",
    "assert fr_ar(\"il nous a rien dit\") == ['هو', 'نحن']"
   ]
  },
  {
   "cell_type": "markdown",
   "metadata": {},
   "source": [
    "1. Des triangles\n",
    "    1. écrire une fonction `la_plus_grande(longueur1, longueur2, longueur3)` qui renvoie la longueur du plus grand côté (une fonction de python fait peut-être déjà cela...).\n",
    "    2. écrire une fonction `est_equilateral(longueur1, longueur2, longueur3)` qui détermine si un triangle est équilatéral ou non (les trois côtés ont la même longueur).\n",
    "    2. écrire une fonction `est_isocele(longueur1, longueur2, longueur3)` qui détermine si un triangle est isocèle (deux côtés de même longueur mais pas trois) ou non.\n",
    "    3. Écrire une fonction `caracteristiques(longueur1, longueur2, longueur3)` qui renvoie la nature et la taille du plus grand côté d'un triangle. On dira qu'un triangle est `quelconque` s'il n'est ni équilatéral ni isocèle. Affiche `pas un triangle` si les longueurs données ne font pas un triangle (la longueur du plus grand côté est supérieure à celle des deux autres)."
   ]
  },
  {
   "cell_type": "code",
   "execution_count": null,
   "metadata": {},
   "outputs": [],
   "source": [
    "def la_plus_grande(longueur1, longueur2, longueur3):\n",
    "    \"\"\"Renvoie la plus grande longueur.\"\"\"\n",
    "    # TODO: codez !\n",
    "\n",
    "def est_equilateral(longueur1, longueur2, longueur3):\n",
    "    \"\"\"Renvoie si un triangle est équilatéral.\"\"\"\n",
    "    # TODO: codez !\n",
    "\n",
    "def est_isocele(longueur1, longueur2, longueur3):\n",
    "    \"\"\"Renvoie si un triangle est isocele.\"\"\"\n",
    "    # TODO: codez !\n",
    "\n",
    "def est_triangle(longueur1, longueur2, longueur3):\n",
    "    \"\"\"Renvoie si les longueurs données font bien un triangle.\"\"\"\n",
    "    # TODO: codez !\n",
    "\n",
    "def caracteristiques(longueur1, longueur2, longueur3):\n",
    "    \"\"\"Renvoie les caractéristiques d'un triangle.\n",
    "    Les caractéristiques d'un triangle sont :\n",
    "        - sa nature\n",
    "        - la taille de son plus grand côté.\n",
    "\n",
    "    On dira qu'un triangle est `quelconque` s'il n'est ni équilatéral ni isocèle.\n",
    "\n",
    "    Affiche `pas un triangle` si les longueurs données ne font pas un triangle\n",
    "    (la longueur du plus grand côté est supérieure à celle des deux autres).\n",
    "    \"\"\"\n",
    "    # TODO: codez !"
   ]
  },
  {
   "cell_type": "code",
   "execution_count": null,
   "metadata": {},
   "outputs": [],
   "source": [
    "assert caracteristiques(1, 1, 1) ==  (\"equilatéral\", 1)\n",
    "assert caracteristiques(1, 1, 2) == (\"isocèle\", 2)\n",
    "assert caracteristiques(1, 2, 1) == (\"isocèle\", 2)\n",
    "assert caracteristiques(2, 1, 1) == (\"isocèle\", 2)\n",
    "assert caracteristiques(2, 3, 1) == (\"quelconque\", 3)\n",
    "assert caracteristiques(2, 3, 6) == \"pas un triangle\"\n",
    "assert caracteristiques(6, 3, 2) == \"pas un triangle\"\n",
    "assert caracteristiques(2, 6, 3) == \"pas un triangle\""
   ]
  },
  {
   "cell_type": "markdown",
   "metadata": {},
   "source": [
    "2. Des heures\n",
    "    1. écrire une fonction `heures(secondes)` qui prend un nombre de secondes (entier) et le convertit en heures, minutes et secondes sous le format `H:M:S` où `H` est le nombre d'heures, `M` le nombre de minutes et `S` le nombre de secondes.\n",
    "    2. écrire une fonction `secondes(heure)` qui prend une heure au format `H:M:S` et renvoie le nombre de secondes correspondantes (entier).\n",
    "\n",
    "On ne gèrera ici pas les cas incohérents comme un nombre de secondes négatif ou une heure mal formatée."
   ]
  },
  {
   "cell_type": "code",
   "execution_count": null,
   "metadata": {},
   "outputs": [],
   "source": [
    "def heures(secondes):\n",
    "    \"\"\"Prend un nombre de secondes (entier) et le convertit en heures, minutes\n",
    "    et secondes sous le format `H:M:S` où `H` est le nombre d'heures,\n",
    "    `M` le nombre de minutes et `S` le nombre de secondes.\n",
    "\n",
    "    On suppose que secondes est positif ou nul (secondes >= 0).\n",
    "    \"\"\"\n",
    "    # TODO: codez !\n",
    "\n",
    "def secondes(heure):\n",
    "    \"\"\"Prend une heure au format `H:M:S` et renvoie le nombre de secondes\n",
    "    correspondantes (entier).\n",
    "\n",
    "    On suppose que l'heure est bien formattée. On aura toujours un nombre\n",
    "    d'heures valide, un nombre de minutes valide et un nombre de secondes valide.\n",
    "    \"\"\"\n",
    "    # TODO: codez !"
   ]
  },
  {
   "cell_type": "code",
   "execution_count": null,
   "metadata": {},
   "outputs": [],
   "source": [
    "assert (heures(0)) == \"0:0:0\"\n",
    "assert(heures(30)) == \"0:0:30\"\n",
    "assert(heures(60)) == \"0:1:0\"\n",
    "assert(heures(66)) == \"0:1:6\"\n",
    "assert(heures(3600)) == \"1:0:0\"\n",
    "assert(heures(86466)) == \"24:1:6\"\n",
    "assert(secondes('0:0:0')) == \"0\"\n",
    "assert(secondes('6:6:6')) == \"21966\"\n",
    "assert(secondes(heures(86466))) == \"86466\"\n",
    "assert(heures(secondes('24:1:1'))) == \"24:1:1\""
   ]
  },
  {
   "cell_type": "markdown",
   "metadata": {},
   "source": [
    "3. Des cartes\n",
    "\n",
    "Nous jouons aux cartes à quatre personnes. On appelle un pli l'ensemble des cartes jouées dans un tour (ici, quatre cartes). Chaque carte a une valeur (un entier de 1 à 13). Chaque carte a également une couleur : carreau, trèfle, cœur ou pic. Ces couleurs sont notés avec une lettre: carreau=`D`, trèfle=`C`, cœur=`H` et pic=`S`. Une carte est alors une chaîne avec sa couleur et sa valeur, par exemple l'as de pic est noté `S1`, la dame de cœur `H12`. La carte du premier joueur `carte1` donne la couleur attendue. Une carte qui n'est pas à la bonne couleur perd automatiquement. Écrire une fonction `gagne_couleur(carte1, carte2, carte3, carte4)` qui renvoie la carte qui remporte le pli en faisant attention aux couleurs.  \n",
    "\n",
    "On ne gèrera pas certains cas incohérents comme une carte ou un pli invalide."
   ]
  },
  {
   "cell_type": "code",
   "execution_count": null,
   "metadata": {},
   "outputs": [],
   "source": [
    "def gagne_couleur(carte1, carte2, carte3, carte4):\n",
    "    \"\"\"Renvoie la carte qui remporte le pli en faisant attention aux couleurs :\n",
    "        - la carte du premier joueur `carte1` donne la couleur attendue.\n",
    "        - une carte qui n'est pas à la bonne couleur perd automatiquement.\n",
    "\n",
    "    On ne gèrera pas certains cas incohérents comme une carte ou un pli invalide.\n",
    "    \"\"\"\n",
    "    # TODO: codez !"
   ]
  },
  {
   "cell_type": "code",
   "execution_count": null,
   "metadata": {},
   "outputs": [],
   "source": [
    "assert(gagne_couleur('S1', 'S2', 'S3', 'S4')) == 'S4'\n",
    "assert(gagne_couleur('S4', 'S3', 'S2', 'S1')) == 'S4'\n",
    "assert(gagne_couleur('S1', 'D2', 'C3', 'H4')) == 'S1'\n",
    "assert(gagne_couleur('S1', 'D2', 'S13', 'S10')) == 'S13'"
   ]
  },
  {
   "cell_type": "markdown",
   "metadata": {},
   "source": [
    "Faire l'exercice ASCII ART de codingame: https://www.codingame.com/ide/puzzle/ascii-art"
   ]
  }
 ],
 "metadata": {
  "kernelspec": {
   "display_name": "Python 3",
   "language": "python",
   "name": "python3"
  },
  "language_info": {
   "codemirror_mode": {
    "name": "ipython",
    "version": 3
   },
   "file_extension": ".py",
   "mimetype": "text/x-python",
   "name": "python",
   "nbconvert_exporter": "python",
   "pygments_lexer": "ipython3",
   "version": "3.7.4"
  }
 },
 "nbformat": 4,
 "nbformat_minor": 2
}
