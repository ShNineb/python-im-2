{
 "cells": [
  {
   "cell_type": "markdown",
   "metadata": {},
   "source": [
    "# Séance 1 – 07/10/2020 : révisions"
   ]
  },
  {
   "cell_type": "markdown",
   "metadata": {},
   "source": [
    "## Correction des exos\n",
    "\n",
    "Voir [https://github.com/clement-plancq/python-im-2/tree/master/corrections](https://github.com/clement-plancq/python-im-2/tree/master/corrections)  \n",
    "Les exos (à part ceux de CodinGame) sont liés à des tests, dans un fichier commençant par `test_`, ils peuvent être lancés avec [pytest](https://docs.pytest.org/en/latest/). Pour cela il faut installer le module `pytest`.\n",
    "\n",
    "Je vous rappelle la commande à utiliser pour installer un module :  \n",
    "`python3 -m pip install pytest`  \n",
    "ou  \n",
    "`python3 -m pip install pytest --user`"
   ]
  },
  {
   "cell_type": "markdown",
   "metadata": {},
   "source": [
    "## Les listes : fonctions\n",
    "\n",
    "- Les listes héritent des fonctions des *sequences*, elles ont également des [fonctions propres](https://docs.python.org/3.6/tutorial/datastructures.html#more-on-lists)\n",
    "- Parmi ces fonctions nous utiliserons principalement :\n",
    "  - `append(x)` : ajoute un élément x à la fin de la liste (haut de la pile*)\n",
    "  - `extend([x, y, z])` : ajoute tous les éléments de la liste arg à la fin de la liste\n",
    "  - `pop(index=-1)` : supprime et renvoie l'élément de la liste à la position `index`\n",
    "  - `index(x)` : renvoie l'index du premier élément de valeur x\n",
    "  - `count(x)` : renvoie le nombre de fois où x apparaît\n",
    "  - `sort(key=None, reverse=False)` : trie et modifie la liste, lire la [doc](https://docs.python.org/3.6/howto/sorting.html#sortinghowto) pour en savoir plus sur les ordres de tri."
   ]
  },
  {
   "cell_type": "code",
   "execution_count": null,
   "metadata": {},
   "outputs": [],
   "source": [
    "stack = [12, 15, 12, 7, 18]\n",
    "stack.index(12)"
   ]
  },
  {
   "cell_type": "code",
   "execution_count": null,
   "metadata": {},
   "outputs": [],
   "source": [
    "stack.count(12)"
   ]
  },
  {
   "cell_type": "code",
   "execution_count": null,
   "metadata": {},
   "outputs": [],
   "source": [
    "stack.sort()\n",
    "stack"
   ]
  },
  {
   "cell_type": "code",
   "execution_count": null,
   "metadata": {},
   "outputs": [],
   "source": [
    "stack.append(23)\n",
    "stack"
   ]
  },
  {
   "cell_type": "code",
   "execution_count": null,
   "metadata": {},
   "outputs": [],
   "source": [
    "stack.append([35, 46])\n",
    "stack"
   ]
  },
  {
   "cell_type": "code",
   "execution_count": null,
   "metadata": {},
   "outputs": [],
   "source": [
    "stack.extend([51, 52])\n",
    "stack"
   ]
  },
  {
   "cell_type": "markdown",
   "metadata": {},
   "source": [
    "### ✍️  Exo ✍️"
   ]
  },
  {
   "cell_type": "code",
   "execution_count": null,
   "metadata": {},
   "outputs": [],
   "source": [
    "def tokenize(sentence):\n",
    "    \"\"\"\n",
    "    Tokenize la phrase donnée en argument (sep = espace).\n",
    "    Renvoie une liste de mots. Les mots composés avec un tiret\n",
    "    sont décomposés dans des sous-listes.\n",
    "    Args:\n",
    "        sentence (string): la phrase à tokenizer\n",
    "    Returns:\n",
    "        list\n",
    "    \"\"\"\n",
    "    words = []\n",
    "    for item in sentence.split():\n",
    "        if '-' in item:\n",
    "            words.append(item.split('-'))\n",
    "        else:\n",
    "            words.append(item)\n",
    "    return words"
   ]
  },
  {
   "cell_type": "code",
   "execution_count": null,
   "metadata": {},
   "outputs": [],
   "source": [
    "assert tokenize(\"je suis né dans le gris par accident\") == \\\n",
    "    ['je', 'suis', 'né', 'dans', 'le', 'gris', 'par', 'accident']\n",
    "assert tokenize(\"tout mon cœur est resté là-bas\") == \\\n",
    "    ['tout', 'mon', 'cœur', 'est', 'resté', ['là', 'bas']]"
   ]
  },
  {
   "cell_type": "markdown",
   "metadata": {},
   "source": [
    "# Les listes en compréhension\n",
    "\n",
    "- Elles permettent de définir des listes par filtrage ou opération sur les éléments d'une autre liste\n",
    "- La [PEP 202](http://www.python.org/dev/peps/pep-0202/) conseille de préférer les listes en compréhension aux fonctions `map()` et `filter()`  \n",
    "- C'est puissant et concis, *so pythonic*"
   ]
  },
  {
   "cell_type": "code",
   "execution_count": null,
   "metadata": {},
   "outputs": [],
   "source": [
    "[i ** 2 for i in range(10)]"
   ]
  },
  {
   "cell_type": "code",
   "execution_count": null,
   "metadata": {
    "slideshow": {
     "slide_type": "subslide"
    }
   },
   "outputs": [],
   "source": [
    "[i ** 2 for i in range(10) if i % 2 == 0]"
   ]
  },
  {
   "cell_type": "code",
   "execution_count": null,
   "metadata": {},
   "outputs": [],
   "source": [
    "[(i, j) for i in range(2) for j in ['a', 'b']]"
   ]
  },
  {
   "cell_type": "markdown",
   "metadata": {},
   "source": [
    "### ✍️  Exo ✍️"
   ]
  },
  {
   "cell_type": "code",
   "execution_count": null,
   "metadata": {},
   "outputs": [],
   "source": [
    "# Utilisez une liste en compréhension sur la sortie de votre fonction tokenize de manière à ne retenir que les noms\n",
    "# composés\n",
    "words = tokenize(\"De-ci de-là, cahin-caha, va trottine, va chemine, va petit âne\")\n",
    "compounds = [word for word in words if type(word) is list]\n",
    "assert compounds == [['De', 'ci'], ['de', 'là,'], ['cahin', 'caha,']]"
   ]
  },
  {
   "cell_type": "markdown",
   "metadata": {},
   "source": [
    "## Parcours de liste\n",
    "\n",
    "La boucle `for` est particulièrement adaptée pour parcourir les *iterables* et donc les listes"
   ]
  },
  {
   "cell_type": "code",
   "execution_count": null,
   "metadata": {
    "slideshow": {
     "slide_type": "subslide"
    }
   },
   "outputs": [],
   "source": [
    "voyelles = ['a', 'e', 'i', 'o', 'u']\n",
    "for item in voyelles:\n",
    "    print(item)"
   ]
  },
  {
   "cell_type": "markdown",
   "metadata": {},
   "source": [
    "La fonction `enumerate` peut être utile dans certains cas, elle renvoie un `tuple` contenant l'indice et la valeur de l'item à l'indice concerné"
   ]
  },
  {
   "cell_type": "code",
   "execution_count": null,
   "metadata": {},
   "outputs": [],
   "source": [
    "for i, item in enumerate(voyelles):\n",
    "    print(i, item)"
   ]
  },
  {
   "cell_type": "markdown",
   "metadata": {},
   "source": [
    "## Copie de liste\n",
    "\n",
    "Dans `y = x`, `y` n'est pas un copie de x, les deux pointent vers le même objet"
   ]
  },
  {
   "cell_type": "code",
   "execution_count": null,
   "metadata": {},
   "outputs": [],
   "source": [
    "x = [1, 2, 3]\n",
    "y = x\n",
    "y[0] = 4\n",
    "x"
   ]
  },
  {
   "cell_type": "markdown",
   "metadata": {},
   "source": [
    "Pour copier une liste il faut utiliser :"
   ]
  },
  {
   "cell_type": "code",
   "execution_count": null,
   "metadata": {},
   "outputs": [],
   "source": [
    "x = [1, 2, 3]\n",
    "y = x[:]\n",
    "# ou\n",
    "y = list(x)\n",
    "y[0] = 4\n",
    "x"
   ]
  },
  {
   "cell_type": "markdown",
   "metadata": {},
   "source": [
    "# Déballage de séquences\n",
    "\n",
    "- Le *sequence unpacking* permet d'effectuer plusieurs affectations simultanées\n",
    "- L'*unpacking* s'applique souvent sur des tuples"
   ]
  },
  {
   "cell_type": "code",
   "execution_count": null,
   "metadata": {},
   "outputs": [],
   "source": [
    "x, y, z = (1, 2, 3)\n",
    "y"
   ]
  },
  {
   "cell_type": "code",
   "execution_count": null,
   "metadata": {},
   "outputs": [],
   "source": [
    "lexique = [(\"maison\", \"mEz§\"), (\"serpent\", \"sERp@\")]\n",
    "for ortho, phon in lexique:\n",
    "    print(phon)"
   ]
  },
  {
   "cell_type": "markdown",
   "metadata": {},
   "source": [
    "  - On peut aussi utiliser `*` pour déballer une séquence en argument de fonction"
   ]
  },
  {
   "cell_type": "code",
   "execution_count": null,
   "metadata": {},
   "outputs": [],
   "source": [
    "bornes = (0, 10)\n",
    "for i in range(*bornes):\n",
    "    print(i)"
   ]
  },
  {
   "cell_type": "markdown",
   "metadata": {},
   "source": [
    "# Les ensembles\n",
    "\n",
    "Les ensembles (`set`) sont des collections non ordonnées d'élements sans doublons\n",
    "Les ensembles supportent les fonctions mathématiques d'union, d'intersection, de différence ([doc](https://docs.python.org/3.6/library/stdtypes.html#set))\n",
    "\n",
    "  - `value in s` renvoie si `value` est un élément de `s`\n",
    "  - `union(*sets)` renvoie l'union de tous les `sets` (l'ensemble des valeur contenues dans tous les sets).\n",
    "  - `intersection(*sets)` renvoie l'intersection de tous les `sets` (l'ensemble des valeur contenues dans au moins un set).\n"
   ]
  },
  {
   "cell_type": "code",
   "execution_count": null,
   "metadata": {},
   "outputs": [],
   "source": [
    "ens0 = set()  # on crée l'ensemble vide\n",
    "ens0"
   ]
  },
  {
   "cell_type": "code",
   "execution_count": null,
   "metadata": {},
   "outputs": [],
   "source": [
    "ens1 = {'le', 'guépard', 'le', 'poursuit'}\n",
    "ens1"
   ]
  },
  {
   "cell_type": "code",
   "execution_count": null,
   "metadata": {},
   "outputs": [],
   "source": [
    "ens2 = {\"avec\", \"le\", \"chandelier\", \"dans\", \"la\", \"cuisine\"}\n",
    "ens1.intersection(ens2)"
   ]
  },
  {
   "cell_type": "markdown",
   "metadata": {},
   "source": [
    "### ✍️  Exo \n",
    "\n",
    "Dans cet extrait de données tirées des [listes de Swadesh de langues austronésiennes](https://en.wiktionary.org/wiki/Appendix:Austronesian_Swadesh_lists), ici pour le tagalog et le cebuano, trouvez les mots en commun."
   ]
  },
  {
   "cell_type": "code",
   "execution_count": null,
   "metadata": {},
   "outputs": [],
   "source": [
    "tagalog = {'i':'ako', 'you_sg':'ikaw', 'he':'siya', 'we':'tayo', 'you_pl':'kayo', 'they':'sila',\\\n",
    "           'this':'ito', 'that':'iyan', 'here':'dito', 'there':'doon', 'who':'sino',\\\n",
    "           'what':'ano', 'where':'saan', 'when':'kailan', 'how':'paano'}\n",
    "cebuano = {'i':'ako', 'you_sg':'ikaw', 'he':'siya', 'we':'kita', 'you_pl':'kamo', 'they':'sila',\\\n",
    "           'this':'kiri', 'that':'kana', 'here':'diri', 'there':'diha', 'who':'kinsa',\\\n",
    "           'what':'unsa', 'where':'asa', 'when':'kanus-a', 'how':'unsaon'}\n",
    "set(tagalog.values()).intersection(set(cebuano.values()))"
   ]
  },
  {
   "cell_type": "markdown",
   "metadata": {},
   "source": [
    "# Les dictionnaires\n",
    "\n",
    "- Les dictionnaires (`dict`) sont des structures de données associatives de type clé: valeur\n",
    "- Les clés d'un dictionnaire sont uniques, seuls les types *hashable* (*immutable* et objets que vous avez définis) peuvent être des clés ([doc](https://docs.python.org/3.6/library/stdtypes.html#mapping-types-dict))\n",
    "\n",
    "  - `key in d` renvoie True si `key` est une clé de `d`\n",
    "  - `keys()` renvoie la liste des clés\n",
    "  - `values()` renvoie la liste des valeurs\n",
    "  - `items()` renvoie la liste des couples clé:valeur (tuple)\n",
    "  - `get(key, default=None)` renvoie la valeur associée à `key`. Si `key` n'existe pas, renvoie l'argument `default`. Ne modifie pas le dictionnaire.\n",
    "  - `setdefault(key, default=None)` si `key` n'existe pas, insère `key` avec la valeur `default` dans le dictionnaire puis renvoie la valeur associée à la clé."
   ]
  },
  {
   "cell_type": "code",
   "execution_count": null,
   "metadata": {},
   "outputs": [],
   "source": [
    "d = {'Perl':'Larry Wall', 'Python':'Guido Van Rossum', 'C++':'Bjarne Stroustrup'}\n",
    "d['Perl']"
   ]
  },
  {
   "cell_type": "code",
   "execution_count": null,
   "metadata": {},
   "outputs": [],
   "source": [
    "d['Ruby']"
   ]
  },
  {
   "cell_type": "code",
   "execution_count": null,
   "metadata": {},
   "outputs": [],
   "source": [
    "d.setdefault('Ruby', 'je sais pas')\n",
    "d"
   ]
  },
  {
   "cell_type": "markdown",
   "metadata": {},
   "source": [
    "## Module collections\n",
    "\n",
    "- Le module *collections* propose des implémentations de structures de données supplémentaires\n",
    "- Dans la liste (voir [doc](https://docs.python.org/3.6/library/collections.html)), deux pourront nous intéresser :\n",
    "\n",
    "  - `defaultdict`\n",
    "\n",
    "     `defauldict` est similaire à un `dict` mais il permet l'autovivification\n",
    "\n",
    "      Son implémentation le rend plus rapide qu'un dictionnaire utilisé avec la fonction `setdefault`\n"
   ]
  },
  {
   "cell_type": "code",
   "execution_count": null,
   "metadata": {},
   "outputs": [],
   "source": [
    "import collections\n",
    "lexique = [(\"couvent\", \"kuv\"), (\"couvent\", \"kuv@\")]\n",
    "dico = collections.defaultdict(list)\n",
    "for ortho, phon in lexique:\n",
    "    dico[ortho].append(phon)\n",
    "dico"
   ]
  },
  {
   "cell_type": "markdown",
   "metadata": {},
   "source": [
    "## Module collections\n",
    "\n",
    "  - `Counter`\n",
    "  \n",
    "`Counter` est un dictionnaire où les valeurs attendues sont les nombres d'occurences des clés"
   ]
  },
  {
   "cell_type": "code",
   "execution_count": null,
   "metadata": {},
   "outputs": [],
   "source": [
    "from collections import Counter\n",
    "cnt = Counter()\n",
    "list = ['le', 'guépard', 'le', 'poursuit']\n",
    "for item in list:\n",
    "    cnt[item] += 1\n",
    "cnt"
   ]
  },
  {
   "cell_type": "markdown",
   "metadata": {},
   "source": [
    "### ✍️  Exo \n",
    "\n",
    "Faites la même chose avec un dictionnaire"
   ]
  },
  {
   "cell_type": "markdown",
   "metadata": {},
   "source": [
    "## Les fichiers\n",
    "\n",
    "* Pour travailler avec les fichiers on doit procéder à trois opérations :\n",
    "   1. Ouverture avec la fonction `open` (lève l'exception `FileNotFoundError` en cas d'échec)\n",
    "   2. Lecture (`read` ou `readline` ou `readlines`) et/ou écriture (`write`)\n",
    "   3. Fermeture du fichier avec la fonction `close`\n",
    "\t      \n",
    "* Ouverture\n",
    "  * `open` est une fonction qui accepte de nombreux arguments : RTFM\n",
    "  * `open` renvoie un objet de type `file`\t      \n",
    "  * Le plus souvent elle s'emploie de la manière suivante:\n",
    "  ```python\n",
    ">>> #f = open(filename, mode)\t   \n",
    ">>> f = open('nom_fichier', 'w')\n",
    "```"
   ]
  },
  {
   "cell_type": "markdown",
   "metadata": {},
   "source": [
    "Les modes sont : \n",
    "\n",
    "* `r` : lecture (défaut)\n",
    "* `w` : écriture\n",
    "* `x` : création et écriture (échec si le fichier existe déjà)\n",
    "* `a` : concaténation (append)\n",
    "  \n",
    "  \n",
    "* `b` : mode binaire\n",
    "* `t` : mode texte (défaut)\n",
    "* `+` : read/write (ex: r+b)\n"
   ]
  },
  {
   "cell_type": "markdown",
   "metadata": {},
   "source": [
    "## Les fichiers : ouverture\n",
    "\n",
    "La documentation de Python conseille cette façon de faire :\n",
    "```python\n",
    "with open('mon_fichier', 'r') as f:\n",
    "    read_data = f.read()\n",
    "```\n",
    "L'utilisation du mot clé `with` garantit la fermeture du fichier même si une exception est soulevée.  "
   ]
  },
  {
   "cell_type": "markdown",
   "metadata": {},
   "source": [
    "## Les fichiers : lecture\n",
    "\n",
    "* `read(size=-1)` lit les `size` premiers octets (mode `b`) ou caractères (mode `t`). Si `size` < 0, lit tout le fichier.\n",
    "* `readline(size=-1)` lit au plus `size` caractères ou jusqu'à la fin de ligne. Si `size` < 0, lit toute la ligne. Il est conseillé de ne pas toucher à `size`.\n",
    "* `readlines(hint=-1)` lit `hint` lignes du fichier. Si `hint` < 0, lit toutes les lignes du fichier.\n",
    "* un objet `file` est un itérable ! (*the pythonic way*)\n",
    "\n",
    "```python\n",
    "for line in f:\n",
    "    process(line)\n",
    "```"
   ]
  },
  {
   "cell_type": "markdown",
   "metadata": {},
   "source": [
    "## Les fichiers : écriture et fermeture\n",
    "\n",
    "* `write(text)` écrit `texte` dans le fichier?\n",
    "* `close()` ferme le fichier.  \n",
    "\n",
    "En règle générale veillez à toujours fermer les objets fichiers.  \n",
    "En mode écriture oublier de fermer un fichier peut réserver des mauvaises surprises\n",
    "\n",
    "* fonction `print`\n",
    "```python\n",
    "with open('mon_fichier', 'w') as output_f:\n",
    "    for item in words:\n",
    "        print(item, file=output_f)\n",
    "```\n",
    "* `sys.stdin`, `sys.stdout` et `sys.stderr` sont des objets de type `file`"
   ]
  },
  {
   "cell_type": "markdown",
   "metadata": {},
   "source": [
    "### ✍️  Exo \n",
    "\n",
    "Lisez le fichier `data/austronesian_swadesh.csv` et écrivez les mots des langues Ilocano et Malagasy dans deux fichiers distincts.  \n",
    "Les données viennent de [Wiktionary](https://en.wiktionary.org/wiki/Appendix:Austronesian_Swadesh_lists).\n",
    "\n",
    "(Essayez de faire comme si vous ne connaissiez pas le module csv sinon la partie qui suit n'aura aucun intérêt.)"
   ]
  },
  {
   "cell_type": "code",
   "execution_count": null,
   "metadata": {},
   "outputs": [],
   "source": [
    "# c'est compliqué sans le module csv quand même"
   ]
  },
  {
   "cell_type": "markdown",
   "metadata": {},
   "source": [
    "## Module csv\n",
    "\n",
    "La documentation est ici : [https://docs.python.org/3/library/csv.html](https://docs.python.org/3/library/csv.html)  \n",
    "Parce que les données au format csv sont très répandues et parce qu'il peut être pénible de le lire correctement, le module csv est là pour vous aider.  \n",
    "Pour le dire vite il y a deux façons de l'utiliser : reader/writer ou DictReader/DictWriter."
   ]
  },
  {
   "cell_type": "markdown",
   "metadata": {},
   "source": [
    " - `csv.reader`"
   ]
  },
  {
   "cell_type": "code",
   "execution_count": null,
   "metadata": {},
   "outputs": [],
   "source": [
    "import csv\n",
    "\n",
    "swadesh_light = []\n",
    "with open('data/austronesian_swadesh.csv') as csvfile:\n",
    "    reader = csv.reader(csvfile, delimiter=',', quotechar='\"') # à l'ouverture je spécifie les séparateur de champ et de chaîne  \n",
    "    for row in reader: # l'objet reader est un itérable\n",
    "        swadesh_light.append(row[0:3])\n",
    "        print(' | '.join(row[0:3])) # row est une liste de chaînes de caractères"
   ]
  },
  {
   "cell_type": "markdown",
   "metadata": {},
   "source": [
    "  - `csv.writer`"
   ]
  },
  {
   "cell_type": "code",
   "execution_count": null,
   "metadata": {},
   "outputs": [],
   "source": [
    "with open('swadesh_light.csv', 'w') as csvfile:\n",
    "    writer = csv.writer(csvfile, delimiter='|',quotechar='\"')\n",
    "    #writer.writerows(swadesh_light) ici on écrit tout en une fois\n",
    "    for item in swadesh_light:\n",
    "        writer.writerow(item) # writerow reçoit une liste de chaînes"
   ]
  },
  {
   "cell_type": "markdown",
   "metadata": {},
   "source": [
    " - csv.DictReader  \n",
    "Cette classe s'appuie sur la ligne d'en-tête pour créer une suite de dictionnaires.  \n",
    "S'il n'y a pas de ligne d'en-tête on peut utiliser une liste `fieldnames` en paramètre."
   ]
  },
  {
   "cell_type": "code",
   "execution_count": null,
   "metadata": {},
   "outputs": [],
   "source": [
    "with open('data/austronesian_swadesh.csv') as csvfile:\n",
    "    reader = csv.DictReader(csvfile, delimiter=',',quotechar='\"')\n",
    "    for row in reader: # ici row est un dictionnaire\n",
    "         print(f\"{row['Ilocano']} | {row['Malagasy']}\")\n"
   ]
  },
  {
   "cell_type": "markdown",
   "metadata": {},
   "source": [
    "  - csv.DictWriter  \n",
    "  Cette fois il s'agit de générer un fichier csv à partir d'une séquence de dictionnaires. Le paramètre `fieldnames` est obligatoire."
   ]
  },
  {
   "cell_type": "code",
   "execution_count": null,
   "metadata": {},
   "outputs": [],
   "source": [
    "with open('swadesh_light.csv', 'w') as csvfile:\n",
    "    fieldnames = ['english', 'ilocano']\n",
    "    writer = csv.DictWriter(csvfile, fieldnames=fieldnames, delimiter='|',quotechar='$')\n",
    "    writer.writeheader()\n",
    "    for num, en, ilo in swadesh_light:\n",
    "        writer.writerow({'english': en, 'ilocano': ilo})\n"
   ]
  },
  {
   "cell_type": "markdown",
   "metadata": {},
   "source": [
    "## Module `re`"
   ]
  },
  {
   "cell_type": "code",
   "execution_count": null,
   "metadata": {},
   "outputs": [],
   "source": [
    "import re"
   ]
  },
  {
   "cell_type": "markdown",
   "metadata": {},
   "source": [
    "- `re` est un module particulièrement important, vous devez lire la [doc](https://docs.python.org/3/library/re.html), absolument\n",
    "\n",
    "- La doc officielle est parfois aride, ce [howto](https://docs.python.org/3.6/howto/regex.html) rédigé par A.M. Kuchling est plus digeste\n",
    "\n",
    "\n",
    "a minima vous devez connaître les fonctions :\n",
    "\n",
    "- `findall` : trouve toutes les occurences du motif, retourne une liste de chaînes trouvées\n",
    "- `search` : trouve le motif, retourne un objet `Match`, `None` sinon\n",
    "- `match` : détermine si le motif est présent au début de la chaîne, retourne un objet `Match`, `None` sinon\n",
    "- `split` : découpe une chaîne selon un motif, retourne une liste de chaînes\n",
    "- `sub` : remplace les occurences d'un motif par une chaîne de remplacement\n",
    "- `compile` : compilation d'un motif (pattern), retourne un objet `Pattern`"
   ]
  },
  {
   "cell_type": "code",
   "execution_count": null,
   "metadata": {},
   "outputs": [],
   "source": [
    "if re.search(r\"(\\w|\\s)+\", \"Un léopard me pourchasse\"):\n",
    "    print(\"Cours !\")"
   ]
  },
  {
   "cell_type": "code",
   "execution_count": null,
   "metadata": {},
   "outputs": [],
   "source": [
    "re.sub(r'e|é', 'i', 'éléphanteau')"
   ]
  },
  {
   "cell_type": "markdown",
   "metadata": {},
   "source": [
    "## `\\w` et Python3\n",
    "\n",
    "`\\w` est la classe prédéfinie des caractères alphanumériques :\n",
    "\n",
    "- En Python 2 `\\w` ~correspond~ correspondait à `[A-Za-z0-9_]`, avec les locales il est possible d'y ajouter d'autres caractères\n",
    "\n",
    "- En Python 3 `\\w` correspond à tous les caractères qui ont la propriété Unicode Letter d'après le module `unicodedata` (sauf si le motif est compilé en binaire ou si l'option `re.ASCII` est activée)"
   ]
  },
  {
   "cell_type": "code",
   "execution_count": null,
   "metadata": {},
   "outputs": [],
   "source": [
    "if re.search(r\"\\w\", \"馬青區團長成中央代表\"):\n",
    "    print(\"Yeah !\")"
   ]
  },
  {
   "cell_type": "code",
   "execution_count": null,
   "metadata": {},
   "outputs": [],
   "source": [
    "if re.search(r\"\\w\", \"هيلاري كلينتون\"):\n",
    "    print(\"Yeah !\")"
   ]
  },
  {
   "cell_type": "markdown",
   "metadata": {},
   "source": [
    "### ☕  Exos ☕"
   ]
  },
  {
   "cell_type": "markdown",
   "metadata": {},
   "source": [
    " 1. Écrire une fonction qui reçoit deux noms de langue austronésiennes, une liste de mots en anglais et renvoie chacun des mots anglais avec leur traduction dans les deux langues."
   ]
  },
  {
   "cell_type": "code",
   "execution_count": null,
   "metadata": {},
   "outputs": [],
   "source": [
    "def get_austro_words(langue1, langue2, words):\n",
    "    \"\"\"\n",
    "    Reçoit un couple de langues (langue1, langue2) et une liste de mots (words)\n",
    "    Cherche dans la liste Swadesh des langues austronésiennes les traductions des mots\n",
    "    dans ces deux langues.\n",
    "    Renvoie un dictionnaire {'langue1': [w1, w2], 'langue2': [w1, w2]}\n",
    "    Liste vide si la langue n'est pas répertoriée dans la liste\n",
    "    \"\"\"\n",
    "    # votre code\n",
    "\n",
    "    \n",
    "assert get_austro_words('Malay', 'Malagasy', ['new', 'old', 'good']) == \\\n",
    "    {\n",
    "        'Malay':['baharu', 'lama', 'bagus, baik'],\n",
    "        'Malagasy':['vaovao', 'onta, hantitra', 'tsara']\n",
    "    }\n",
    "assert get_austro_words('Malay', 'Balinese', ['new', 'old', 'good']) == \\\n",
    "    {\n",
    "        'Malay':['baharu', 'lama', 'bagus, baik'],\n",
    "        'Balinese':[]\n",
    "    }"
   ]
  },
  {
   "cell_type": "markdown",
   "metadata": {},
   "source": [
    "  2. Pour chaque mot du Cebuano de la liste Swadesh austronésienne, trouvez les mots des autres langues qui ont les deux ou trois premiers caractères en commun.  \n",
    "  (optionnel si vous voulez jouer avec les expressions régulières) Si le mot commence par une voyelle, elle pourra différer dans les autres langues. Ex: isa / usa seront considérées comme similaires (i/u) parce qu'à part la première lettre voyelle elles sont similaires."
   ]
  },
  {
   "cell_type": "markdown",
   "metadata": {},
   "source": [
    "  3. Sans rechercher de solution sur internet, essayez d'implémenter une fonction qui calcule la distance de Levenshtein"
   ]
  }
 ],
 "metadata": {
  "kernelspec": {
   "display_name": "Python 3",
   "language": "python",
   "name": "python3"
  },
  "language_info": {
   "codemirror_mode": {
    "name": "ipython",
    "version": 3
   },
   "file_extension": ".py",
   "mimetype": "text/x-python",
   "name": "python",
   "nbconvert_exporter": "python",
   "pygments_lexer": "ipython3",
   "version": "3.7.4"
  }
 },
 "nbformat": 4,
 "nbformat_minor": 4
}
